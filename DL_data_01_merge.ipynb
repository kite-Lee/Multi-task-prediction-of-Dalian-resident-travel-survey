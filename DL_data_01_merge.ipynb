{
 "cells": [
  {
   "cell_type": "code",
   "execution_count": 1,
   "id": "c4122359",
   "metadata": {},
   "outputs": [],
   "source": [
    "import pandas as pd "
   ]
  },
  {
   "cell_type": "code",
   "execution_count": 2,
   "id": "ff1c34d3",
   "metadata": {},
   "outputs": [],
   "source": [
    "#  处理个人出行表 和 有私家车家庭信息去重表\n",
    "DL_trip_origin = pd.read_csv(\"data/original/个人出行.csv\")[[\"Family_NO\", \"Person_NO\", \"Travel_Purpose\", \"MainTransport\",\n",
    "                                         \"Departure_Time\", \"Arrival_Time\", \"出行时长\", \"distance\", \"Departure_Itude\",\n",
    "                                         \"Destination_Itude\", \"SumCost\"]]\n",
    "\n",
    "DL_trip_origin.rename(columns={'出行时长':'trip_time'},inplace=True)\n",
    "\n",
    "DL_trip_origin[\"Departure_longitude\"] = DL_trip_origin[\"Departure_Itude\"].str.split(',', expand=True)[0]\n",
    "DL_trip_origin[\"Departure_latitude\"] = DL_trip_origin[\"Departure_Itude\"].str.split(',', expand=True)[1]\n",
    "\n",
    "DL_trip_origin[\"Destination_longitude\"] = DL_trip_origin[\"Destination_Itude\"].str.split(',', expand=True)[0]\n",
    "DL_trip_origin[\"Destination_latitude\"] = DL_trip_origin[\"Destination_Itude\"].str.split(',', expand=True)[1]\n",
    "\n",
    "DL_trip_origin.drop([\"Departure_Itude\", \"Destination_Itude\"],axis=1,inplace=True)\n",
    "\n",
    "# # 私家车信息加入到个人出行表中\n",
    "\n",
    "family_car_info = pd.read_csv(\"data/original/有私家车家庭信息去重.csv\")[[\"Family_NO\"]]\n",
    "family_car_info.insert(1,value = 1,column=\"Cars_Count\")\n",
    "DL_trip_final = pd.merge(DL_trip_origin,family_car_info,how='left')\n",
    "DL_trip_final['Cars_Count']=DL_trip_final['Cars_Count'].fillna(0)\n",
    "DL_trip_final['Cars_Count']=DL_trip_final['Cars_Count'].astype('int')"
   ]
  },
  {
   "cell_type": "code",
   "execution_count": 3,
   "id": "57e08ecf",
   "metadata": {},
   "outputs": [],
   "source": [
    "# 处理家庭信息表 和 家庭成员信息表\n",
    "DL_family_info = pd.read_csv(\"data/original/家庭信息.csv\")[[\"Family_NO\",  'Total_IN', 'Area', 'Nature', 'Members_Count']]\n",
    "\n",
    "DL_family_member_info = pd.read_csv(\"data/original/家庭成员信息.csv\")[\n",
    "    [\"Family_NO\", \"Person_NO\", 'Sex', 'Age', 'Education', 'Career_Code', 'Is_Driver', 'Monday', 'Tuesday', 'Wednesday',\n",
    "     'Thursday', 'Friday', 'Saturday', 'Sunday']]\n",
    "\n",
    "# 合并 DL_family_member_info 和 DL_family_info\n",
    "DL_family_info_final = pd.merge(DL_family_member_info, DL_family_info,on=\"Family_NO\" , how=\"left\")"
   ]
  },
  {
   "cell_type": "code",
   "execution_count": 4,
   "id": "c90c19e7",
   "metadata": {},
   "outputs": [
    {
     "name": "stdout",
     "output_type": "stream",
     "text": [
      "RangeIndex(start=0, stop=72851, step=1)\n",
      "Index(['index', 'Family_NO', 'Person_NO', 'Travel_Purpose', 'MainTransport',\n",
      "       'Departure_Time', 'Arrival_Time', 'trip_time', 'distance', 'SumCost',\n",
      "       'Departure_longitude', 'Departure_latitude', 'Destination_longitude',\n",
      "       'Destination_latitude', 'Cars_Count', 'Sex', 'Age', 'Education',\n",
      "       'Career_Code', 'Is_Driver', 'Monday', 'Tuesday', 'Wednesday',\n",
      "       'Thursday', 'Friday', 'Saturday', 'Sunday', 'Total_IN', 'Area',\n",
      "       'Nature', 'Members_Count'],\n",
      "      dtype='object')\n"
     ]
    }
   ],
   "source": [
    "DL_data_final = pd.merge(DL_trip_final, DL_family_info_final,on=[\"Family_NO\",'Person_NO'] , how=\"inner\")\n",
    "DL_data_final.reset_index(inplace=True)\n",
    "DL_data_final.to_csv(\"data/DL_data_final.csv\")\n",
    "print(DL_data_final.index)\n",
    "print(DL_data_final.columns)"
   ]
  }
 ],
 "metadata": {
  "kernelspec": {
   "display_name": "Python 3 (ipykernel)",
   "language": "python",
   "name": "python3"
  },
  "language_info": {
   "codemirror_mode": {
    "name": "ipython",
    "version": 3
   },
   "file_extension": ".py",
   "mimetype": "text/x-python",
   "name": "python",
   "nbconvert_exporter": "python",
   "pygments_lexer": "ipython3",
   "version": "3.7.12"
  }
 },
 "nbformat": 4,
 "nbformat_minor": 5
}